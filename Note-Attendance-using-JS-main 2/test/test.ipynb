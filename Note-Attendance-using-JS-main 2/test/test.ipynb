{
 "cells": [
  {
   "cell_type": "code",
   "execution_count": 1,
   "metadata": {},
   "outputs": [],
   "source": [
    "names=[\n",
    "    \"K Aditya\",\n",
    "    \"Priya Dharshini\", \n",
    "    \"Vivek Singh\", \n",
    "    \"Tharun Kumar\", \n",
    "    \"Ram Charan\", \n",
    "    \"Arun Kumar\", \n",
    "    \"Jessica\",\n",
    "    \"Keerthi\",\n",
    "    \"Srija\", \n",
    "    \"Krishna Vardhan\", \n",
    "    \"Balakrishna Reddy\", \n",
    "    \"Devagiri Rohan\",\n",
    "    \"Manikanta\", \n",
    "    \"Shravika\", \n",
    "    \"Mary Rishitha\", \n",
    "    \"Ranjith Kumar\", \n",
    "    \"Anushik\", \n",
    "    \"Hemanthsai\",\n",
    "    \"J Sai Kiran\", \n",
    "    \"Dhana Shekhar\",\n",
    "    \"Snigdha\", \n",
    "    \"Sri Charan Mohan\", \n",
    "    \"J Sathvik\", \n",
    "    \"Sai Teja\", \n",
    "    \"Samhita Reddy\", \n",
    "    \"Naveen Datta\", \n",
    "    \"Chaitanya\", \n",
    "    \"Suchetha\", \n",
    "    \"Raghav\", \n",
    "    \"Supreeth\", \n",
    "    \"Yagnesh\", \n",
    "    \"Shoyab Ali\", \n",
    "    \"Ashritha Reddy\", \n",
    "    \"Naahida Anjum\", \n",
    "    \"Ismail\", \n",
    "    \"Meenu Lahari\", \n",
    "    \"Aditya Sai Vardhan\", \n",
    "    \"Sravan\", \n",
    "    \"Dinny Sriram Charan\", \n",
    "    \"Rakesh Rohan\", \n",
    "    \"Devi Priyanka\",\n",
    "    \"Sai Ram\",\n",
    "    \"Prabhath Kumar\", \n",
    "    \"Aryan Raj\",\n",
    "    \"Sayyad Riyaz\",\n",
    "    \"Sajid\", \n",
    "    \"Shri Akshita\", \n",
    "    \"Surya Kiran\",\n",
    "    \"Sunnam Satwik\", \n",
    "    \"Sindhuja\", \n",
    "    \"Kamal Kumar\", \n",
    "    \"Sri Datta Bharadwaj\", \n",
    "    \"Pawan Valluri\", \n",
    "    \"Gowthami\",\n",
    "    \"Yashwanth Reddy\", \n",
    "    \"Aakash\", \n",
    "    \"Sai Kiran Yadav\", \n",
    "    \"Sravya Sathwika\", \n",
    "    \"Yashvi Kommidi\", \n",
    "    \"Meghana\", \n",
    "    \"Nikhil\"    \n",
    "]\n"
   ]
  },
  {
   "cell_type": "code",
   "execution_count": 2,
   "metadata": {},
   "outputs": [],
   "source": [
    "rolls=[]"
   ]
  },
  {
   "cell_type": "code",
   "execution_count": 3,
   "metadata": {},
   "outputs": [],
   "source": [
    "for i in range(1,61):\n",
    "    rolls.append(str(i))\n",
    "    "
   ]
  },
  {
   "cell_type": "code",
   "execution_count": 4,
   "metadata": {},
   "outputs": [],
   "source": [
    "rolls.append(\"20_501\")"
   ]
  },
  {
   "cell_type": "code",
   "execution_count": 5,
   "metadata": {},
   "outputs": [
    {
     "data": {
      "text/plain": [
       "['1',\n",
       " '2',\n",
       " '3',\n",
       " '4',\n",
       " '5',\n",
       " '6',\n",
       " '7',\n",
       " '8',\n",
       " '9',\n",
       " '10',\n",
       " '11',\n",
       " '12',\n",
       " '13',\n",
       " '14',\n",
       " '15',\n",
       " '16',\n",
       " '17',\n",
       " '18',\n",
       " '19',\n",
       " '20',\n",
       " '21',\n",
       " '22',\n",
       " '23',\n",
       " '24',\n",
       " '25',\n",
       " '26',\n",
       " '27',\n",
       " '28',\n",
       " '29',\n",
       " '30',\n",
       " '31',\n",
       " '32',\n",
       " '33',\n",
       " '34',\n",
       " '35',\n",
       " '36',\n",
       " '37',\n",
       " '38',\n",
       " '39',\n",
       " '40',\n",
       " '41',\n",
       " '42',\n",
       " '43',\n",
       " '44',\n",
       " '45',\n",
       " '46',\n",
       " '47',\n",
       " '48',\n",
       " '49',\n",
       " '50',\n",
       " '51',\n",
       " '52',\n",
       " '53',\n",
       " '54',\n",
       " '55',\n",
       " '56',\n",
       " '57',\n",
       " '58',\n",
       " '59',\n",
       " '60',\n",
       " '20_501']"
      ]
     },
     "execution_count": 5,
     "metadata": {},
     "output_type": "execute_result"
    }
   ],
   "source": [
    "rolls"
   ]
  },
  {
   "cell_type": "code",
   "execution_count": 16,
   "metadata": {},
   "outputs": [
    {
     "data": {
      "text/plain": [
       "61"
      ]
     },
     "execution_count": 16,
     "metadata": {},
     "output_type": "execute_result"
    }
   ],
   "source": [
    "len(names)"
   ]
  },
  {
   "cell_type": "markdown",
   "metadata": {},
   "source": []
  },
  {
   "cell_type": "code",
   "execution_count": 6,
   "metadata": {},
   "outputs": [],
   "source": [
    "with open(\"test.txt\",\"w\") as file:\n",
    "    for i in range(len(names)):\n",
    "        file.write(\"    {\\n\")\n",
    "        file.write(\"        name:\"+'\"'+names[i]+'\",'+\"\\n\")\n",
    "        file.write(\"        roll:\"+'\"'+rolls[i]+'\",'+\"\\n\")\n",
    "        file.write(\"        present:\"+str(0)+\"\\n\")\n",
    "        file.write(\"    },\\n\")\n",
    "        "
   ]
  },
  {
   "cell_type": "code",
   "execution_count": null,
   "metadata": {},
   "outputs": [],
   "source": []
  }
 ],
 "metadata": {
  "interpreter": {
   "hash": "e2ffade49fbeff3d7d29c1dd63a6b6f42d75a3b20c79e6b4a74ef6aaf29122c5"
  },
  "kernelspec": {
   "display_name": "Python 3.9.6 64-bit",
   "name": "python3"
  },
  "language_info": {
   "codemirror_mode": {
    "name": "ipython",
    "version": 3
   },
   "file_extension": ".py",
   "mimetype": "text/x-python",
   "name": "python",
   "nbconvert_exporter": "python",
   "pygments_lexer": "ipython3",
   "version": "3.9.6"
  },
  "orig_nbformat": 4
 },
 "nbformat": 4,
 "nbformat_minor": 2
}
